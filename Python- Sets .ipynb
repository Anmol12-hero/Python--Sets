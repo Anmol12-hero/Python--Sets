{
 "cells": [
  {
   "cell_type": "code",
   "execution_count": 1,
   "id": "1a50e6fe-2fc8-474e-bdcf-5a469d8ba782",
   "metadata": {},
   "outputs": [],
   "source": [
    "# Q1. What is a set in Python?"
   ]
  },
  {
   "cell_type": "code",
   "execution_count": 2,
   "id": "9146b96d-4500-4040-b5da-9b8de85984a6",
   "metadata": {},
   "outputs": [],
   "source": [
    "# In Python, a set is an unordered collection of unique elements. It is represented by curly braces {} enclosing a comma-separated list of values (or iterable objects) inside, without any duplicate elements."
   ]
  },
  {
   "cell_type": "code",
   "execution_count": 3,
   "id": "39200d17-36ae-4cb6-8131-ffb759b2ffe3",
   "metadata": {},
   "outputs": [],
   "source": [
    "# For example, to create a set of integers:"
   ]
  },
  {
   "cell_type": "code",
   "execution_count": 5,
   "id": "d56b29a8-7d53-4e62-9a58-155775309efc",
   "metadata": {},
   "outputs": [],
   "source": [
    "my_set = {1, 2, 3, 4, 5}"
   ]
  },
  {
   "cell_type": "code",
   "execution_count": 6,
   "id": "cd5187db-7e03-4307-a188-f248c049df59",
   "metadata": {},
   "outputs": [],
   "source": [
    "# Q2.How do you create a set in Python?"
   ]
  },
  {
   "cell_type": "code",
   "execution_count": 7,
   "id": "3451c2f2-88c1-44ec-b278-077c47a293e8",
   "metadata": {},
   "outputs": [],
   "source": [
    "# You can create a set in Python by enclosing a comma-separated list of values (or iterable objects) inside curly braces {}. For example, to create a set of integers:"
   ]
  },
  {
   "cell_type": "code",
   "execution_count": 9,
   "id": "d35f1af7-5641-4929-b4e6-5d04fb603acc",
   "metadata": {},
   "outputs": [],
   "source": [
    "my_set = {\"apple\", \"banana\", \"orange\"}"
   ]
  },
  {
   "cell_type": "code",
   "execution_count": 10,
   "id": "8341f35e-3fde-4371-82b0-5c14ab258dc0",
   "metadata": {},
   "outputs": [],
   "source": [
    "#Q3. How do you add elements to a set in Python?"
   ]
  },
  {
   "cell_type": "code",
   "execution_count": 11,
   "id": "cb92b263-519f-4605-b54e-166f36950e48",
   "metadata": {},
   "outputs": [],
   "source": [
    "# You can add elements to a set in Python using the add() method or the update() method.\n",
    "\n",
    "# The add() method adds a single element to the set. For example, to add the element 6 to a set my_set, you would use the following code:"
   ]
  },
  {
   "cell_type": "code",
   "execution_count": 13,
   "id": "1e67d27c-59dc-4022-a8eb-8fe2eec41cf5",
   "metadata": {},
   "outputs": [],
   "source": [
    "my_set.add(6)"
   ]
  },
  {
   "cell_type": "code",
   "execution_count": 15,
   "id": "67b413ac-18f4-4aeb-8ab6-a364524ffa99",
   "metadata": {},
   "outputs": [],
   "source": [
    "my_set.update([6, 7, 8])"
   ]
  },
  {
   "cell_type": "code",
   "execution_count": 17,
   "id": "45c62414-7aad-46b9-a65f-0c76e0121955",
   "metadata": {},
   "outputs": [],
   "source": [
    "# Q4. How do you remove elements from a set in Python?"
   ]
  },
  {
   "cell_type": "code",
   "execution_count": null,
   "id": "9fce4a6a-c3a5-4ec5-882f-47bd603a278b",
   "metadata": {},
   "outputs": [],
   "source": [
    "# You can remove elements from a set in Python using the remove(), discard(), and pop() methods.\n",
    "#The remove() method removes a specific element from the set. For example, to remove the element 3 from a set my_set, you would use the following code:"
   ]
  }
 ],
 "metadata": {
  "kernelspec": {
   "display_name": "Python 3 (ipykernel)",
   "language": "python",
   "name": "python3"
  },
  "language_info": {
   "codemirror_mode": {
    "name": "ipython",
    "version": 3
   },
   "file_extension": ".py",
   "mimetype": "text/x-python",
   "name": "python",
   "nbconvert_exporter": "python",
   "pygments_lexer": "ipython3",
   "version": "3.10.8"
  }
 },
 "nbformat": 4,
 "nbformat_minor": 5
}
